{
 "cells": [
  {
   "cell_type": "code",
   "execution_count": 1,
   "id": "confused-colleague",
   "metadata": {},
   "outputs": [
    {
     "name": "stderr",
     "output_type": "stream",
     "text": [
      "E:\\Anaconda3\\envs\\tf_gpu\\lib\\site-packages\\tensorflow\\python\\keras\\backend.py:434: UserWarning: `tf.keras.backend.set_learning_phase` is deprecated and will be removed after 2020-10-11. To update it, simply pass a True/False value to the `training` argument of the `__call__` method of your layer or model.\n",
      "  warnings.warn('`tf.keras.backend.set_learning_phase` is deprecated and '\n"
     ]
    }
   ],
   "source": [
    "import pickle\n",
    "import numpy as np\n",
    "import matplotlib.pyplot as plt\n",
    "from tensorflow.keras.models import Model, load_model\n",
    "from tensorflow.keras.layers import Input, Conv2D, MaxPooling2D, UpSampling2D,Conv2DTranspose\n",
    "import tensorflow as tf\n",
    "\n",
    "from tensorflow.keras import layers\n",
    "from tensorflow.keras.layers import Input, Add, Dense, Activation, ZeroPadding2D, BatchNormalization, Flatten, Conv2D, AveragePooling2D, MaxPooling2D, GlobalMaxPooling2D\n",
    "from tensorflow.keras.models import Model, load_model\n",
    "from tensorflow.keras.preprocessing import image\n",
    "from tensorflow.python.keras.utils import layer_utils\n",
    "from tensorflow.python.keras.utils.data_utils import get_file\n",
    "from tensorflow.keras.applications.imagenet_utils import preprocess_input\n",
    "from tensorflow.python.keras.utils.vis_utils import model_to_dot\n",
    "from tensorflow.keras.utils import plot_model\n",
    "from tensorflow.keras.initializers import glorot_uniform\n",
    "\n",
    "from tensorflow.keras.models import Sequential\n",
    "from tensorflow.keras.layers import Dense\n",
    "from tensorflow.keras import Sequential\n",
    "from tensorflow.keras.layers import Conv2D,MaxPooling2D,Flatten,Softmax,Activation,Dense,ZeroPadding2D,Convolution2D\n",
    "from tensorflow.python.keras.utils.np_utils import to_categorical\n",
    "\n",
    "from tensorflow.keras.datasets import mnist\n",
    "from sklearn.metrics import recall_score,f1_score,precision_score\n",
    "from tensorflow.keras.optimizers import SGD\n",
    "\n",
    "#import pydot\n",
    "#from IPython.display import SVG\n",
    "#import scipy.misc\n",
    "from matplotlib.pyplot import imshow\n",
    "import tensorflow.keras.backend as K\n",
    "K.set_image_data_format('channels_last')\n",
    "K.set_learning_phase(1)\n",
    "import os\n",
    "#import resnets_utils\n",
    "import os\n",
    "os.environ[\"CUDA_DEVICE_ORDER\"] = \"PCI_BUS_ID\"\n",
    "os.environ['CUDA_VISIBLE_DEVICES'] = \"0,1\"#选择哪一块gpu,如果是-1，就是调用cpu\n",
    "config = tf.compat.v1.ConfigProto()#对session进行参数配置\n",
    "config.allow_soft_placement=True # 如果你指定的设备不存在，允许TF自动分配设备\n",
    "config.gpu_options.per_process_gpu_memory_fraction=0.7#分配百分之七十的显存给程序使用，避免内存溢出，可以自己调整\n",
    "config.gpu_options.allow_growth = True#按需分配显存，这个比较重要\n",
    "session = tf.compat.v1.Session(config=config)"
   ]
  },
  {
   "cell_type": "code",
   "execution_count": 6,
   "id": "terminal-smart",
   "metadata": {},
   "outputs": [],
   "source": [
    "NOISE_E=load_model('NLE.h5')\n",
    "model_LC=load_model('Classifier.h5')\n",
    "model_GC=load_model('SCN.h5')\n",
    "model_Learn=load_model('Feature_extraction.h5')\n",
    "model_Learnfeature=Model(inputs=model_Learn.input,outputs=model_Learn.layers[122].output)"
   ]
  },
  {
   "cell_type": "code",
   "execution_count": 10,
   "id": "complimentary-electric",
   "metadata": {
    "scrolled": true
   },
   "outputs": [],
   "source": [
    "y=np.load(\"TESTLable.npy\")\n",
    "\n",
    "Aimages4=np.load(\"TEST4DB.npy\")\n",
    "Aimages2=np.load(\"TEST2DB.npy\")\n",
    "Aimages0=np.load(\"TEST0DB.npy\")\n",
    "Aimagesf2=np.load(\"TESTf2DB.npy\")\n",
    "Aimagesf4=np.load(\"TESTf4DB.npy\")\n",
    "Aimagesf6=np.load(\"TESTf6DB.npy\")\n",
    "Aimagesf8=np.load(\"TESTf8DB.npy\")\n",
    "Aimagesf10=np.load(\"TESTf10DB.npy\")\n",
    "Aimagesf12=np.load(\"TESTf12DB.npy\")\n",
    "Aimagesf14=np.load(\"TESTf14DB.npy\")\n",
    "Aimagesf16=np.load(\"TESTf16DB.npy\")"
   ]
  },
  {
   "cell_type": "code",
   "execution_count": 9,
   "id": "novel-samoa",
   "metadata": {},
   "outputs": [],
   "source": [
    "from sklearn.metrics import accuracy_score\n",
    "from sklearn.metrics import confusion_matrix\n",
    "images4   = model_Learnfeature.predict(Aimages4   /255.0)\n",
    "aaimages4=NOISE_E.predict(Aimages4   /255.0)\n",
    "\n",
    "images2   = model_Learnfeature.predict(Aimages2   /255.0)\n",
    "aaimages2=NOISE_E.predict(Aimages2   /255.0)\n",
    "\n",
    "images0   = model_Learnfeature.predict(Aimages0   /255.0)\n",
    "aaimages0=NOISE_E.predict(Aimages0   /255.0)\n",
    "\n",
    "imagesf2  = model_Learnfeature.predict(Aimagesf2  /255.0)\n",
    "aaimagesf2=NOISE_E.predict(Aimagesf2   /255.0)\n",
    "\n",
    "imagesf4  = model_Learnfeature.predict(Aimagesf4  /255.0)\n",
    "aaimagesf4=NOISE_E.predict(Aimagesf4   /255.0)\n",
    "\n",
    "imagesf6  = model_Learnfeature.predict(Aimagesf6  /255.0)\n",
    "aaimagesf6=NOISE_E.predict(Aimagesf6   /255.0)\n",
    "\n",
    "imagesf8  = model_Learnfeature.predict(Aimagesf8  /255.0)\n",
    "aaimagesf8=NOISE_E.predict(Aimagesf8   /255.0)\n",
    "\n",
    "imagesf10 = model_Learnfeature.predict(Aimagesf10 /255.0)\n",
    "aaimagesf10=NOISE_E.predict(Aimagesf10   /255.0)\n",
    "\n",
    "imagesf12 = model_Learnfeature.predict(Aimagesf12 /255.0)\n",
    "aaimagesf12=NOISE_E.predict(Aimagesf12   /255.0)\n",
    "\n",
    "imagesf14 = model_Learnfeature.predict(Aimagesf14 /255.0)\n",
    "aaimagesf14=NOISE_E.predict(Aimagesf14   /255.0)\n",
    "\n",
    "imagesf16 = model_Learnfeature.predict(Aimagesf16 /255.0)\n",
    "aaimagesf16=NOISE_E.predict(Aimagesf16   /255.0)\n"
   ]
  },
  {
   "cell_type": "code",
   "execution_count": 11,
   "id": "synthetic-garbage",
   "metadata": {},
   "outputs": [
    {
     "name": "stdout",
     "output_type": "stream",
     "text": [
      "1.0 4dB\n",
      "[[100   0   0   0   0   0   0   0   0   0]\n",
      " [  0 100   0   0   0   0   0   0   0   0]\n",
      " [  0   0 100   0   0   0   0   0   0   0]\n",
      " [  0   0   0 100   0   0   0   0   0   0]\n",
      " [  0   0   0   0 100   0   0   0   0   0]\n",
      " [  0   0   0   0   0 100   0   0   0   0]\n",
      " [  0   0   0   0   0   0 100   0   0   0]\n",
      " [  0   0   0   0   0   0   0 100   0   0]\n",
      " [  0   0   0   0   0   0   0   0 100   0]\n",
      " [  0   0   0   0   0   0   0   0   0 100]]\n"
     ]
    }
   ],
   "source": [
    "aa=aaimages4\n",
    "ff=images4\n",
    "x=np.zeros((1000,1), dtype='uint8')\n",
    "for i in range(1000):\n",
    "    a1=aa[i,1]\n",
    "    a2=aa[i,0]\n",
    "    if a1 < a2:\n",
    "        f2=ff[i]\n",
    "        f2=f2.reshape(1,2048)\n",
    "        x2=model_LC.predict(f2)\n",
    "        x[i]=np.argmax(x2,axis=1)\n",
    "    if a1 >= a2:\n",
    "        f2=ff[i]\n",
    "        f2=f2.reshape(1,2048)\n",
    "        x2=model_GC.predict(f2)\n",
    "        x[i]=np.argmax(x2,axis=1)\n",
    "accuracy_test4 = accuracy_score(y,x)\n",
    "print(accuracy_test4,'4dB')\n",
    "print(confusion_matrix(y,x))"
   ]
  },
  {
   "cell_type": "code",
   "execution_count": 12,
   "id": "contrary-verse",
   "metadata": {},
   "outputs": [
    {
     "name": "stdout",
     "output_type": "stream",
     "text": [
      "1.0 2dB\n",
      "[[100   0   0   0   0   0   0   0   0   0]\n",
      " [  0 100   0   0   0   0   0   0   0   0]\n",
      " [  0   0 100   0   0   0   0   0   0   0]\n",
      " [  0   0   0 100   0   0   0   0   0   0]\n",
      " [  0   0   0   0 100   0   0   0   0   0]\n",
      " [  0   0   0   0   0 100   0   0   0   0]\n",
      " [  0   0   0   0   0   0 100   0   0   0]\n",
      " [  0   0   0   0   0   0   0 100   0   0]\n",
      " [  0   0   0   0   0   0   0   0 100   0]\n",
      " [  0   0   0   0   0   0   0   0   0 100]]\n"
     ]
    }
   ],
   "source": [
    "aa=aaimages2\n",
    "ff=images2\n",
    "x=np.zeros((1000,1), dtype='uint8')\n",
    "for i in range(1000):\n",
    "    a1=aa[i,1]\n",
    "    a2=aa[i,0]\n",
    "    if a1 < a2:\n",
    "        f2=ff[i]\n",
    "        f2=f2.reshape(1,2048)\n",
    "        x2=model_LC.predict(f2)\n",
    "        x[i]=np.argmax(x2,axis=1)\n",
    "    if a1 >= a2:\n",
    "        f2=ff[i]\n",
    "        f2=f2.reshape(1,2048)\n",
    "        x2=model_GC.predict(f2)\n",
    "        x[i]=np.argmax(x2,axis=1)\n",
    "accuracy_test4 = accuracy_score(y,x)\n",
    "print(accuracy_test4,'2dB')\n",
    "print(confusion_matrix(y,x))"
   ]
  },
  {
   "cell_type": "code",
   "execution_count": 13,
   "id": "ahead-candle",
   "metadata": {},
   "outputs": [
    {
     "name": "stdout",
     "output_type": "stream",
     "text": [
      "1.0 0dB\n",
      "[[100   0   0   0   0   0   0   0   0   0]\n",
      " [  0 100   0   0   0   0   0   0   0   0]\n",
      " [  0   0 100   0   0   0   0   0   0   0]\n",
      " [  0   0   0 100   0   0   0   0   0   0]\n",
      " [  0   0   0   0 100   0   0   0   0   0]\n",
      " [  0   0   0   0   0 100   0   0   0   0]\n",
      " [  0   0   0   0   0   0 100   0   0   0]\n",
      " [  0   0   0   0   0   0   0 100   0   0]\n",
      " [  0   0   0   0   0   0   0   0 100   0]\n",
      " [  0   0   0   0   0   0   0   0   0 100]]\n"
     ]
    }
   ],
   "source": [
    "aa=aaimages0\n",
    "ff=images0\n",
    "x=np.zeros((1000,1), dtype='uint8')\n",
    "for i in range(1000):\n",
    "    a1=aa[i,1]\n",
    "    a2=aa[i,0]\n",
    "    if a1 < a2:\n",
    "        f2=ff[i]\n",
    "        f2=f2.reshape(1,2048)\n",
    "        x2=model_LC.predict(f2)\n",
    "        x[i]=np.argmax(x2,axis=1)\n",
    "    if a1 >= a2:\n",
    "        f2=ff[i]\n",
    "        f2=f2.reshape(1,2048)\n",
    "        x2=model_GC.predict(f2)\n",
    "        x[i]=np.argmax(x2,axis=1)\n",
    "accuracy_test4 = accuracy_score(y,x)\n",
    "print(accuracy_test4,'0dB')\n",
    "print(confusion_matrix(y,x))"
   ]
  },
  {
   "cell_type": "code",
   "execution_count": 14,
   "id": "dried-memory",
   "metadata": {},
   "outputs": [
    {
     "name": "stdout",
     "output_type": "stream",
     "text": [
      "1.0 -2dB\n",
      "[[100   0   0   0   0   0   0   0   0   0]\n",
      " [  0 100   0   0   0   0   0   0   0   0]\n",
      " [  0   0 100   0   0   0   0   0   0   0]\n",
      " [  0   0   0 100   0   0   0   0   0   0]\n",
      " [  0   0   0   0 100   0   0   0   0   0]\n",
      " [  0   0   0   0   0 100   0   0   0   0]\n",
      " [  0   0   0   0   0   0 100   0   0   0]\n",
      " [  0   0   0   0   0   0   0 100   0   0]\n",
      " [  0   0   0   0   0   0   0   0 100   0]\n",
      " [  0   0   0   0   0   0   0   0   0 100]]\n"
     ]
    }
   ],
   "source": [
    "aa=aaimagesf2\n",
    "ff=imagesf2\n",
    "x=np.zeros((1000,1), dtype='uint8')\n",
    "for i in range(1000):\n",
    "    a1=aa[i,1]\n",
    "    a2=aa[i,0]\n",
    "    if a1 < a2:\n",
    "        f2=ff[i]\n",
    "        f2=f2.reshape(1,2048)\n",
    "        x2=model_LC.predict(f2)\n",
    "        x[i]=np.argmax(x2,axis=1)\n",
    "    if a1 >= a2:\n",
    "        f2=ff[i]\n",
    "        f2=f2.reshape(1,2048)\n",
    "        x2=model_GC.predict(f2)\n",
    "        x[i]=np.argmax(x2,axis=1)\n",
    "accuracy_test4 = accuracy_score(y,x)\n",
    "print(accuracy_test4,'-2dB')\n",
    "print(confusion_matrix(y,x))"
   ]
  },
  {
   "cell_type": "code",
   "execution_count": 23,
   "id": "spatial-remark",
   "metadata": {},
   "outputs": [
    {
     "name": "stdout",
     "output_type": "stream",
     "text": [
      "0.998 -4dB\n",
      "[[100   0   0   0   0   0   0   0   0   0]\n",
      " [  0 100   0   0   0   0   0   0   0   0]\n",
      " [  0   0 100   0   0   0   0   0   0   0]\n",
      " [  0   0   0 100   0   0   0   0   0   0]\n",
      " [  0   0   0   0 100   0   0   0   0   0]\n",
      " [  0   0   0   0   0 100   0   0   0   0]\n",
      " [  0   0   0   0   0   0 100   0   0   0]\n",
      " [  0   0   0   0   0   0   0 100   0   0]\n",
      " [  0   0   0   0   0   0   0   0 100   0]\n",
      " [  0   2   0   0   0   0   0   0   0  98]]\n"
     ]
    }
   ],
   "source": [
    "aa=aaimagesf4\n",
    "ff=imagesf4\n",
    "x=np.zeros((1000,1), dtype='uint8')\n",
    "for i in range(1000):\n",
    "    a1=aa[i,1]\n",
    "    a2=aa[i,0]\n",
    "    if a1 < a2:\n",
    "        f2=ff[i]\n",
    "        f2=f2.reshape(1,2048)\n",
    "        x2=model_LC.predict(f2)\n",
    "        x[i]=np.argmax(x2,axis=1)\n",
    "    if a1 >= a2:\n",
    "        f2=ff[i]\n",
    "        f2=f2.reshape(1,2048)\n",
    "        x2=model_GC.predict(f2)\n",
    "        x[i]=np.argmax(x2,axis=1)\n",
    "accuracy_test4 = accuracy_score(y,x)\n",
    "print(accuracy_test4,'-4dB')\n",
    "print(confusion_matrix(y,x))"
   ]
  },
  {
   "cell_type": "code",
   "execution_count": 22,
   "id": "similar-integration",
   "metadata": {},
   "outputs": [
    {
     "name": "stdout",
     "output_type": "stream",
     "text": [
      "0.996 -6dB\n",
      "[[100   0   0   0   0   0   0   0   0   0]\n",
      " [  0 100   0   0   0   0   0   0   0   0]\n",
      " [  0   0 100   0   0   0   0   0   0   0]\n",
      " [  0   0   0 100   0   0   0   0   0   0]\n",
      " [  0   0   0   0 100   0   0   0   0   0]\n",
      " [  0   0   0   0   0 100   0   0   0   0]\n",
      " [  0   0   0   0   0   0 100   0   0   0]\n",
      " [  0   0   0   0   0   0   0 100   0   0]\n",
      " [  0   0   0   0   0   0   0   0 100   0]\n",
      " [  0   4   0   0   0   0   0   0   0  96]]\n"
     ]
    }
   ],
   "source": [
    "aa=aaimagesf6\n",
    "ff=imagesf6\n",
    "x=np.zeros((1000,1), dtype='uint8')\n",
    "for i in range(1000):\n",
    "    a1=aa[i,1]\n",
    "    a2=aa[i,0]\n",
    "    if a1 < a2:\n",
    "        f2=ff[i]\n",
    "        f2=f2.reshape(1,2048)\n",
    "        x2=model_LC.predict(f2)\n",
    "        x[i]=np.argmax(x2,axis=1)\n",
    "    if a1 >= a2:\n",
    "        f2=ff[i]\n",
    "        f2=f2.reshape(1,2048)\n",
    "        x2=model_GC.predict(f2)\n",
    "        x[i]=np.argmax(x2,axis=1)\n",
    "accuracy_test4 = accuracy_score(y,x)\n",
    "print(accuracy_test4,'-6dB')\n",
    "print(confusion_matrix(y,x))"
   ]
  },
  {
   "cell_type": "code",
   "execution_count": 17,
   "id": "ceramic-malaysia",
   "metadata": {},
   "outputs": [
    {
     "name": "stdout",
     "output_type": "stream",
     "text": [
      "0.96 -8dB\n",
      "[[100   0   0   0   0   0   0   0   0   0]\n",
      " [  0  85   0   0   0   0   0   0   0  15]\n",
      " [  0   0 100   0   0   0   0   0   0   0]\n",
      " [  0   0   0  99   1   0   0   0   0   0]\n",
      " [  0   0   0   0 100   0   0   0   0   0]\n",
      " [  0   0   0   0   0  99   1   0   0   0]\n",
      " [  0   0   0   0   0   2  96   2   0   0]\n",
      " [  0   0   0   0   0   0   0 100   0   0]\n",
      " [  0   0   0   0   0   0   0   0 100   0]\n",
      " [  0  19   0   0   0   0   0   0   0  81]]\n"
     ]
    }
   ],
   "source": [
    "aa=aaimagesf8\n",
    "ff=imagesf8\n",
    "x=np.zeros((1000,1), dtype='uint8')\n",
    "for i in range(1000):\n",
    "    a1=aa[i,1]\n",
    "    a2=aa[i,0]\n",
    "    if a1 < a2:\n",
    "        f2=ff[i]\n",
    "        f2=f2.reshape(1,2048)\n",
    "        x2=model_LC.predict(f2)\n",
    "        x[i]=np.argmax(x2,axis=1)\n",
    "    if a1 >= a2:\n",
    "        f2=ff[i]\n",
    "        f2=f2.reshape(1,2048)\n",
    "        x2=model_GC.predict(f2)\n",
    "        x[i]=np.argmax(x2,axis=1)\n",
    "accuracy_test4 = accuracy_score(y,x)\n",
    "print(accuracy_test4,'-8dB')\n",
    "print(confusion_matrix(y,x))"
   ]
  },
  {
   "cell_type": "code",
   "execution_count": 18,
   "id": "animal-inspector",
   "metadata": {},
   "outputs": [],
   "source": [
    "aa=aaimagesf10\n",
    "ff=imagesf10\n",
    "x=np.zeros((1000,1), dtype='uint8')\n",
    "for i in range(1000):\n",
    "    a1=aa[i,1]\n",
    "    a2=aa[i,0]\n",
    "    if a1 < a2:\n",
    "        f2=ff[i]\n",
    "        f2=f2.reshape(1,2048)\n",
    "        x2=model_LC.predict(f2)\n",
    "        x[i]=np.argmax(x2,axis=1)\n",
    "    if a1 >= a2:\n",
    "        f2=ff[i]\n",
    "        f2=f2.reshape(1,2048)\n",
    "        x2=model_GC.predict(f2)\n",
    "        x[i]=np.argmax(x2,axis=1)\n",
    "accuracy_test4 = accuracy_score(y,x)"
   ]
  },
  {
   "cell_type": "code",
   "execution_count": 19,
   "id": "recorded-comedy",
   "metadata": {},
   "outputs": [
    {
     "name": "stdout",
     "output_type": "stream",
     "text": [
      "0.737 -12dB\n",
      "[[78  0  0  0  0  0  0  0 22  0]\n",
      " [ 0 55  4  0  3  0  1  2  0 35]\n",
      " [ 1  0 96  0  2  0  0  0  1  0]\n",
      " [ 0  1  0 72 13  4  7  1  1  1]\n",
      " [ 0  4  3  2 86  0  0  0  4  1]\n",
      " [ 0  0  0  1  0 83 16  0  0  0]\n",
      " [ 0  0  1  2  0 20 71  6  0  0]\n",
      " [ 0  1  1  2  5  1 10 78  0  2]\n",
      " [14  0  0  0  3  0  0  0 83  0]\n",
      " [ 0 40  1  1 15  0  0  3  5 35]]\n"
     ]
    }
   ],
   "source": [
    "aa=aaimagesf12\n",
    "ff=imagesf12\n",
    "x=np.zeros((1000,1), dtype='uint8')\n",
    "for i in range(1000):\n",
    "    a1=aa[i,1]\n",
    "    a2=aa[i,0]\n",
    "    if a1 < a2:\n",
    "        f2=ff[i]\n",
    "        f2=f2.reshape(1,2048)\n",
    "        x2=model_LC.predict(f2)\n",
    "        x[i]=np.argmax(x2,axis=1)\n",
    "    if a1 >= a2:\n",
    "        f2=ff[i]\n",
    "        f2=f2.reshape(1,2048)\n",
    "        x2=model_GC.predict(f2)\n",
    "        x[i]=np.argmax(x2,axis=1)\n",
    "accuracy_test4 = accuracy_score(y,x)\n",
    "print(accuracy_test4,'-12dB')\n",
    "print(confusion_matrix(y,x))"
   ]
  },
  {
   "cell_type": "code",
   "execution_count": 20,
   "id": "cellular-dakota",
   "metadata": {},
   "outputs": [
    {
     "name": "stdout",
     "output_type": "stream",
     "text": [
      "0.526 -14dB\n",
      "[[51  0  2  3  4  1  0  0 37  2]\n",
      " [ 0 36  5  4 14  0  3  1  5 32]\n",
      " [ 1  4 75  3 11  1  1  1  1  2]\n",
      " [ 0  0  3 38 43  2  5  2  7  0]\n",
      " [ 1  4  3  9 71  1  3  3  3  2]\n",
      " [ 1  1  0  8  1 60 23  3  2  1]\n",
      " [ 1  0  3 12  6 14 45 13  5  1]\n",
      " [ 0  4  5  3  8  2  4 58  9  7]\n",
      " [15  3  3  0  9  0  1  4 64  1]\n",
      " [ 1 29  5  1 17  3  2  9  5 28]]\n"
     ]
    }
   ],
   "source": [
    "aa=aaimagesf14\n",
    "ff=imagesf14\n",
    "x=np.zeros((1000,1), dtype='uint8')\n",
    "for i in range(1000):\n",
    "    a1=aa[i,1]\n",
    "    a2=aa[i,0]\n",
    "    if a1 < a2:\n",
    "        f2=ff[i]\n",
    "        f2=f2.reshape(1,2048)\n",
    "        x2=model_LC.predict(f2)\n",
    "        x[i]=np.argmax(x2,axis=1)\n",
    "    if a1 >= a2:\n",
    "        f2=ff[i]\n",
    "        f2=f2.reshape(1,2048)\n",
    "        x2=model_GC.predict(f2)\n",
    "        x[i]=np.argmax(x2,axis=1)\n",
    "accuracy_test4 = accuracy_score(y,x)\n",
    "print(accuracy_test4,'-14dB')\n",
    "print(confusion_matrix(y,x))"
   ]
  },
  {
   "cell_type": "code",
   "execution_count": 21,
   "id": "broke-marketing",
   "metadata": {},
   "outputs": [],
   "source": [
    "aa=aaimagesf16\n",
    "ff=imagesf16\n",
    "x=np.zeros((1000,1), dtype='uint8')\n",
    "for i in range(1000):\n",
    "    a1=aa[i,1]\n",
    "    a2=aa[i,0]\n",
    "    if a1 < a2:\n",
    "        f2=ff[i]\n",
    "        f2=f2.reshape(1,2048)\n",
    "        x2=model_LC.predict(f2)\n",
    "        x[i]=np.argmax(x2,axis=1)\n",
    "    if a1 >= a2:\n",
    "        f2=ff[i]\n",
    "        f2=f2.reshape(1,2048)\n",
    "        x2=model_GC.predict(f2)\n",
    "        x[i]=np.argmax(x2,axis=1)\n",
    "accuracy_test4 = accuracy_score(y,x)"
   ]
  },
  {
   "cell_type": "code",
   "execution_count": null,
   "id": "greek-specific",
   "metadata": {},
   "outputs": [],
   "source": []
  }
 ],
 "metadata": {
  "kernelspec": {
   "display_name": "Python 3",
   "language": "python",
   "name": "python3"
  },
  "language_info": {
   "codemirror_mode": {
    "name": "ipython",
    "version": 3
   },
   "file_extension": ".py",
   "mimetype": "text/x-python",
   "name": "python",
   "nbconvert_exporter": "python",
   "pygments_lexer": "ipython3",
   "version": "3.6.13"
  }
 },
 "nbformat": 4,
 "nbformat_minor": 5
}
